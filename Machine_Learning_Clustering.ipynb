{
  "nbformat": 4,
  "nbformat_minor": 0,
  "metadata": {
    "colab": {
      "name": "Machine_Learning_Clustering.ipynb",
      "provenance": [],
      "collapsed_sections": [],
      "toc_visible": true
    },
    "kernelspec": {
      "name": "python3",
      "display_name": "Python 3"
    }
  },
  "cells": [
    {
      "cell_type": "markdown",
      "metadata": {
        "id": "M9PJvs2b9Qux"
      },
      "source": [
        "# **Clustering - Mall Customer Segmentation**"
      ]
    },
    {
      "cell_type": "markdown",
      "metadata": {
        "id": "jUadK_vH96ux"
      },
      "source": [
        "Clustering is the task of dividing the data points into a number of groups. Data points in the same groups are more similar to other data points in the same group and dissimilar to the data points in other groups.\n",
        "\n",
        "Malls and other shopping places often compete to increase their customers and gain greater profits. Mall owners utilize their basic customer membership data and develop machine learning models to understand the purchasing behavior and set the right target customers so that the sense can be given to marketing team and plan the strategy accordingly.\n",
        "\n",
        "The customer data consist of the following features :\n",
        "1. CustomerID: It is the unique ID given to a customer\n",
        "2. Gender: Gender of the customer\n",
        "3. Age: The age of the customer\n",
        "4. Annual Income(k$): It is the annual income of the customer\n",
        "5. Spending Score: It is the score(out of 100) given to a customer by the mall authorities, based on the money spent and the behavior of the customer.\n",
        "\n",
        "Source: https://www.kaggle.com/vjchoudhary7/customer-segmentation-tutorial-in-python\n"
      ]
    },
    {
      "cell_type": "markdown",
      "metadata": {
        "id": "JZP77h1qaGbi"
      },
      "source": [
        "## **Install and Import Libraries**"
      ]
    },
    {
      "cell_type": "markdown",
      "metadata": {
        "id": "MCQPIRbZaGbl"
      },
      "source": [
        "***Install Library***"
      ]
    },
    {
      "cell_type": "code",
      "metadata": {
        "id": "z2Go39sHaGbn"
      },
      "source": [
        "# Install Category Encoders\n",
        "! pip install category_encoders"
      ],
      "execution_count": null,
      "outputs": []
    },
    {
      "cell_type": "code",
      "metadata": {
        "id": "7mamzftTaUbA"
      },
      "source": [
        "!pip install kneed \n",
        "from kneed import DataGenerator, KneeLocator "
      ],
      "execution_count": null,
      "outputs": []
    },
    {
      "cell_type": "markdown",
      "metadata": {
        "id": "SmibzUJyaGby"
      },
      "source": [
        "***Import Libraries***"
      ]
    },
    {
      "cell_type": "code",
      "metadata": {
        "id": "0txDNxTCLwUA"
      },
      "source": [
        "from sklearn.preprocessing import StandardScaler\n",
        "from sklearn.cluster import KMeans\n",
        "from sklearn.metrics import silhouette_samples, silhouette_score\n",
        "\n",
        "import numpy as np \n",
        "import pandas as pd\n",
        "import matplotlib.pyplot as plt\n",
        "import seaborn as sns\n",
        "%matplotlib inline \n",
        "\n",
        "import matplotlib.cm as cm\n",
        "from scipy import stats\n",
        "\n",
        "import os\n",
        "import warnings\n",
        "warnings.filterwarnings(\"ignore\")"
      ],
      "execution_count": null,
      "outputs": []
    },
    {
      "cell_type": "markdown",
      "metadata": {
        "id": "xOKLZILWP_lC"
      },
      "source": [
        "## **Import Data**"
      ]
    },
    {
      "cell_type": "markdown",
      "metadata": {
        "id": "cJJ-96A7-Ek7"
      },
      "source": [
        "***Mall Customer Data***"
      ]
    },
    {
      "cell_type": "code",
      "metadata": {
        "id": "5i13x9k3lmUw"
      },
      "source": [
        "#Import Dataset\n",
        "from google.colab import files\n",
        "uploaded = files.upload()\n"
      ],
      "execution_count": null,
      "outputs": []
    },
    {
      "cell_type": "code",
      "metadata": {
        "id": "aDsG3DX_lxZZ"
      },
      "source": [
        "#import data to Google Colab \n",
        "import pandas as pd \n",
        "df_customer = pd.read_csv('mall_customer.csv', sep=';')"
      ],
      "execution_count": null,
      "outputs": []
    },
    {
      "cell_type": "code",
      "metadata": {
        "id": "cm0b0HZXnwtD"
      },
      "source": [
        "#Check our dataset \n",
        "df_customer"
      ],
      "execution_count": null,
      "outputs": []
    },
    {
      "cell_type": "code",
      "metadata": {
        "id": "aAs3kf2hP_lG"
      },
      "source": [
        "# Prints the Dataset Information\n",
        "df_customer.info()"
      ],
      "execution_count": null,
      "outputs": []
    },
    {
      "cell_type": "code",
      "metadata": {
        "id": "KOzLtEIZoDv2"
      },
      "source": [
        "#rename head of Dataset \n",
        "df_customer.rename(index=str, columns={'ann_income_kUSD': 'income',\n",
        "                              'spending_score': 'score'}, inplace=True)\n",
        "df_customer.head()"
      ],
      "execution_count": null,
      "outputs": []
    },
    {
      "cell_type": "code",
      "metadata": {
        "id": "PGFHmTvTP_lK"
      },
      "source": [
        "# Prints Descriptive Statistics\n",
        "df_customer.describe().transpose()"
      ],
      "execution_count": null,
      "outputs": []
    },
    {
      "cell_type": "markdown",
      "metadata": {
        "id": "IWCxb8yslkmN"
      },
      "source": [
        "## **Explore the Dataset**"
      ]
    },
    {
      "cell_type": "markdown",
      "metadata": {
        "id": "dCLd87W7BLiH"
      },
      "source": [
        "Data stratified by gender - the only categorical variable."
      ]
    },
    {
      "cell_type": "code",
      "metadata": {
        "id": "jtTKlRA5_kdi"
      },
      "source": [
        "# subset with males age\n",
        "males_age = df_customer[df_customer['gender']=='male']['age']\n",
        "# subset with females age \n",
        "females_age = df_customer[df_customer['gender']=='female']['age']\n",
        "age_bins = range  (15,75,5)"
      ],
      "execution_count": null,
      "outputs": []
    },
    {
      "cell_type": "code",
      "metadata": {
        "id": "jzagBfU9AgIE"
      },
      "source": [
        "#males Histogram \n",
        "fig2, (ax1, ax2) = plt.subplots(1, 2, figsize=(12,5), sharey=True)\n",
        "sns.distplot(males_age, bins=age_bins, kde=False, color='#0066ff', ax=ax1, hist_kws=dict(edgecolor=\"k\", linewidth=2))\n",
        "ax1.set_xticks(age_bins)\n",
        "ax1.set_ylim(top=25)\n",
        "ax1.set_title('Males')\n",
        "ax1.set_ylabel('Count')\n",
        "ax1.text(45,23, \"TOTAL count: {}\".format(males_age.count()))\n",
        "ax1.text(45,22, \"Mean age: {:.1f}\".format(males_age.mean()))\n",
        "\n",
        "# female Histogram \n",
        "sns.distplot(females_age, bins=age_bins, kde=False, color='#cc66ff', ax=ax2, hist_kws=dict(edgecolor=\"k\", linewidth=2))\n",
        "ax2.set_xticks(age_bins)\n",
        "ax2.set_title('Females')\n",
        "ax2.set_ylabel('Count')\n",
        "ax2.text(45,23, \"TOTAL count: {}\".format(females_age.count()))\n",
        "ax2.text(45,22, \"Mean age: {:.1f}\".format(females_age.mean()))\n",
        "\n",
        "plt.show()\n"
      ],
      "execution_count": null,
      "outputs": []
    },
    {
      "cell_type": "code",
      "metadata": {
        "id": "ySV4k2CsBbTU"
      },
      "source": [
        "print('Kolgomorov-Smirnov test p-value: {:.2f}'.format(stats.ks_2samp(males_age, females_age)[1]))"
      ],
      "execution_count": null,
      "outputs": []
    },
    {
      "cell_type": "markdown",
      "metadata": {
        "id": "SWlCqjmuCWyG"
      },
      "source": [
        "The average age of male customers is lightly higher than female ones (39.8 versus 38.1). Distribution of male age is more uniform than females, where we can observe that the biggest age group is 30-35 years old. Kolgomorov-Smirnov test shows that the differences between these two groups are statistically insignificant."
      ]
    },
    {
      "cell_type": "code",
      "metadata": {
        "id": "rz7dFWIEB4tE"
      },
      "source": [
        "def labeler(pct, allvals):\n",
        "    absolute = int(pct/100.*np.sum(allvals))\n",
        "    return \"{:.1f}%\\n({:d})\".format(pct, absolute)\n",
        "\n",
        "sizes = [males_age.count(),females_age.count()] # wedge sizes\n",
        "\n",
        "fig0, ax1 = plt.subplots(figsize=(6,6))\n",
        "wedges, texts, autotexts = ax1.pie(sizes,\n",
        "                                   autopct=lambda pct: labeler(pct, sizes),\n",
        "                                   radius=1,\n",
        "                                   colors=['#0066ff','#cc66ff'],\n",
        "                                   startangle=90,\n",
        "                                   textprops=dict(color=\"w\"),\n",
        "                                   wedgeprops=dict(width=0.7, edgecolor='w'))\n",
        "\n",
        "ax1.legend(wedges, ['male','female'],\n",
        "           loc='center right',\n",
        "           bbox_to_anchor=(0.7, 0, 0.5, 1))\n",
        "\n",
        "plt.text(0,0, 'TOTAL\\n{}'.format(df_customer['age'].count()),\n",
        "         weight='bold', size=12, color='#52527a',\n",
        "         ha='center', va='center')\n",
        "\n",
        "plt.setp(autotexts, size=12, weight='bold')\n",
        "ax1.axis('equal')  # Equal aspect ratio\n",
        "plt.show()"
      ],
      "execution_count": null,
      "outputs": []
    },
    {
      "cell_type": "markdown",
      "metadata": {
        "id": "3sThEYCrCK0r"
      },
      "source": [
        "There are slightly more female customers than male ones (112 vs. 87). Females are 56% of total customers."
      ]
    },
    {
      "cell_type": "code",
      "metadata": {
        "id": "KbJ-j5wtCrxr"
      },
      "source": [
        "males_income = df_customer[df_customer['gender']=='male']['income'] # subset with males income\n",
        "females_income = df_customer[df_customer['gender']=='female']['income'] # subset with females income\n",
        "\n",
        "my_bins = range(10,150,10)\n",
        "\n",
        "# males histogram\n",
        "fig, (ax1, ax2, ax3) = plt.subplots(1, 3, figsize=(18,5))\n",
        "sns.distplot(males_income, bins=my_bins, kde=False, color='#0066ff', ax=ax1, hist_kws=dict(edgecolor=\"k\", linewidth=2))\n",
        "ax1.set_xticks(my_bins)\n",
        "ax1.set_yticks(range(0,24,2))\n",
        "ax1.set_ylim(0,22)\n",
        "ax1.set_title('Males')\n",
        "ax1.set_ylabel('Count')\n",
        "ax1.text(85,19, \"Mean income: {:.1f}\".format(males_income.mean()))\n",
        "ax1.text(85,18, \"Median income: {:.1f}\".format(males_income.median()))\n",
        "ax1.text(85,17, \"Std. deviation: {:.1f}\".format(males_income.std()))\n",
        "\n",
        "# females histogram\n",
        "sns.distplot(females_income, bins=my_bins, kde=False, color='#cc66ff', ax=ax2, hist_kws=dict(edgecolor=\"k\", linewidth=2))\n",
        "ax2.set_xticks(my_bins)\n",
        "ax2.set_yticks(range(0,24,2))\n",
        "ax2.set_ylim(0,22)\n",
        "ax2.set_title('Females')\n",
        "ax2.set_ylabel('Count')\n",
        "ax2.text(85,19, \"Mean income: {:.1f}\".format(females_income.mean()))\n",
        "ax2.text(85,18, \"Median income: {:.1f}\".format(females_income.median()))\n",
        "ax2.text(85,17, \"Std. deviation: {:.1f}\".format(females_income.std()))\n",
        "\n",
        "# boxplot\n",
        "sns.boxplot(x='gender', y='income', data=df_customer, ax=ax3)\n",
        "ax3.set_title('Boxplot of annual income')\n",
        "plt.show()"
      ],
      "execution_count": null,
      "outputs": []
    },
    {
      "cell_type": "code",
      "metadata": {
        "id": "LjNXaiXDDcV3"
      },
      "source": [
        "print('Kolgomorov-Smirnov test p-value: {:.2f}'.format(stats.ks_2samp(males_income, females_income)[1]))"
      ],
      "execution_count": null,
      "outputs": []
    },
    {
      "cell_type": "markdown",
      "metadata": {
        "id": "sqp414MKDU2b"
      },
      "source": [
        "Mean income of males is higher than females 62.2  vs. 59.2 \n",
        "Median income  of male customers 62.5 is higher than female ones 60\n",
        " \n",
        "Standard deviation is similar for both groups. There is one outlier in male group with an annual income of about 140 . K-S test shows that these two groups are not statistically different.  "
      ]
    },
    {
      "cell_type": "code",
      "metadata": {
        "id": "uIoq6v2PEXll"
      },
      "source": [
        "males_spending = df_customer[df_customer ['gender']=='male']['score'] # subset with males age\n",
        "females_spending = df_customer[df_customer['gender']=='female']['score'] # subset with females age\n",
        "\n",
        "spending_bins = range(0,105,5)\n",
        "\n",
        "# males histogram\n",
        "fig, (ax1, ax2, ax3) = plt.subplots(1, 3, figsize=(18,5))\n",
        "sns.distplot(males_spending, bins=spending_bins, kde=False, color='#0066ff', ax=ax1, hist_kws=dict(edgecolor=\"k\", linewidth=2))\n",
        "ax1.set_xticks(spending_bins)\n",
        "ax1.set_xlim(0,100)\n",
        "ax1.set_yticks(range(0,17,1))\n",
        "ax1.set_ylim(0,16)\n",
        "ax1.set_title('Males')\n",
        "ax1.set_ylabel('Count')\n",
        "ax1.text(50,15, \"Mean spending score: {:.1f}\".format(males_spending.mean()))\n",
        "ax1.text(50,14, \"Median spending score: {:.1f}\".format(males_spending.median()))\n",
        "ax1.text(50,13, \"Std. deviation score: {:.1f}\".format(males_spending.std()))\n",
        "\n",
        "# females histogram\n",
        "sns.distplot(females_spending, bins=spending_bins, kde=False, color='#cc66ff', ax=ax2, hist_kws=dict(edgecolor=\"k\", linewidth=2))\n",
        "ax2.set_xticks(spending_bins)\n",
        "ax2.set_xlim(0,100)\n",
        "ax2.set_yticks(range(0,17,1))\n",
        "ax2.set_ylim(0,16)\n",
        "ax2.set_title('Females')\n",
        "ax2.set_ylabel('Count')\n",
        "ax2.text(50,15, \"Mean spending score: {:.1f}\".format(females_spending.mean()))\n",
        "ax2.text(50,14, \"Median spending score: {:.1f}\".format(females_spending.median()))\n",
        "ax2.text(50,13, \"Std. deviation score: {:.1f}\".format(females_spending.std()))\n",
        "\n",
        "# boxplot\n",
        "sns.boxplot(x='gender', y='score', data=df_customer, ax=ax3)\n",
        "ax3.set_title('Boxplot of spending score')\n",
        "plt.show()\n",
        "\n",
        "plt.show()"
      ],
      "execution_count": null,
      "outputs": []
    },
    {
      "cell_type": "code",
      "metadata": {
        "id": "oH0LAwgIFBFz"
      },
      "source": [
        "print('Kolgomorov-Smirnov test p-value: {:.2f}'.format(stats.ks_2samp(males_spending, females_spending)[1]))"
      ],
      "execution_count": null,
      "outputs": []
    },
    {
      "cell_type": "markdown",
      "metadata": {
        "id": "m3cTwMAdE81J"
      },
      "source": [
        "A mean spending score for women (51.5) is higher than men (48.5). The K-S test p-value indicates that there is no evidence to reject the null-hypothesis, however the evidence is not so strong as in previous comparisons.  "
      ]
    },
    {
      "cell_type": "code",
      "metadata": {
        "id": "wP7rSS6dFMEK"
      },
      "source": [
        "#Calculate The Median Income for all age groups \n",
        "medians_by_age_group = df_customer.groupby([\"gender\",pd.cut(df_customer['age'], age_bins)]).median()\n",
        "medians_by_age_group.index = medians_by_age_group.index.set_names(['gender', 'age_group'])\n",
        "medians_by_age_group.reset_index(inplace=True)"
      ],
      "execution_count": null,
      "outputs": []
    },
    {
      "cell_type": "code",
      "metadata": {
        "id": "nOYqnEh-FeST"
      },
      "source": [
        "fig, ax = plt.subplots(figsize=(12,5))\n",
        "sns.barplot(x='age_group', y='income', hue='gender', data=medians_by_age_group,\n",
        "            palette=['#cc66ff','#0066ff'],\n",
        "            alpha=0.7,edgecolor='k',\n",
        "            ax=ax)\n",
        "ax.set_title('Median annual income of male and female customers')\n",
        "ax.set_xlabel('Age group')\n",
        "plt.show()"
      ],
      "execution_count": null,
      "outputs": []
    },
    {
      "cell_type": "markdown",
      "metadata": {
        "id": "5-5yO6GjFppE"
      },
      "source": [
        "the most wealthy customers are in age of 25-45 years old. The biggest difference between women and men is visible in age groups 25-30 (male more rich) and 50-55 (female more rich)."
      ]
    },
    {
      "cell_type": "markdown",
      "metadata": {
        "id": "eS7_n7mmGKZe"
      },
      "source": [
        "## CLUSTERING"
      ]
    },
    {
      "cell_type": "markdown",
      "metadata": {
        "id": "UJ0lSGYFl490"
      },
      "source": [
        "***Visualize Data using Pairplot***"
      ]
    },
    {
      "cell_type": "code",
      "metadata": {
        "id": "oXq9znsdoUB8"
      },
      "source": [
        "# Let's see our data in a detailed way with pairplot\n",
        "X = df_customer.drop(['customer', 'gender'], axis=1)\n",
        "sns.pairplot(df_customer.drop('customer', axis=1), hue='gender', aspect=1.5)\n",
        "plt.show()"
      ],
      "execution_count": null,
      "outputs": []
    },
    {
      "cell_type": "markdown",
      "metadata": {
        "id": "sIyXXiQwmGBW"
      },
      "source": [
        "***Visualize Data using Scatterplot***"
      ]
    },
    {
      "cell_type": "code",
      "metadata": {
        "id": "aSg6yGx-lrdY"
      },
      "source": [
        "# Draw Scatter Plot\n",
        "sns.relplot(x='income', y='score', hue='gender', size='age', kind='scatter', col='gender', data=df_customer)\n",
        "plt.title('Customer Behavior')\n",
        "plt.xlabel('Annual Income k USD')\n",
        "plt.ylabel('Spending Score')"
      ],
      "execution_count": null,
      "outputs": []
    },
    {
      "cell_type": "markdown",
      "metadata": {
        "id": "X1zUhhAzmPg0"
      },
      "source": [
        "***Visualize Correlation between Features***"
      ]
    },
    {
      "cell_type": "code",
      "metadata": {
        "id": "1_Atx0B0mO7t"
      },
      "source": [
        "# Draw Correlation to see hierarchically clustered heatmap\n",
        "sns.clustermap(df_customer.corr(), center=0, cmap='vlag', linewidths=.75)"
      ],
      "execution_count": null,
      "outputs": []
    },
    {
      "cell_type": "markdown",
      "metadata": {
        "id": "cRaWmk38P_lO"
      },
      "source": [
        "## **Data Preprocessing**"
      ]
    },
    {
      "cell_type": "markdown",
      "metadata": {
        "id": "NoZ9zzqI-gFE"
      },
      "source": [
        "***Handling Missing Values***"
      ]
    },
    {
      "cell_type": "code",
      "metadata": {
        "id": "SsGGZh6p-idm"
      },
      "source": [
        "# Check for Missing Values\n",
        "df_customer.isnull().sum()"
      ],
      "execution_count": null,
      "outputs": []
    },
    {
      "cell_type": "code",
      "metadata": {
        "id": "3Fm5A9zuYM8n"
      },
      "source": [
        "#datashape ( we have 200 list of data with 5 data head)\n",
        "df_customer.shape\n"
      ],
      "execution_count": null,
      "outputs": []
    },
    {
      "cell_type": "code",
      "metadata": {
        "id": "WPmAKA7fYske"
      },
      "source": [
        "#selecting feature (use iloc iloc as integer index-based. So here, we have to specify rows and columns by their integer index.)\n",
        "# 3 column of income, 4 column of score \n",
        "X_numerics = df_customer.iloc[:,[3,4]].values "
      ],
      "execution_count": null,
      "outputs": []
    },
    {
      "cell_type": "code",
      "metadata": {
        "id": "yzqupdUvJN_P"
      },
      "source": [
        "Z_numerics = df_customer[['income', 'score']] # subset with numerical only"
      ],
      "execution_count": null,
      "outputs": []
    },
    {
      "cell_type": "code",
      "metadata": {
        "id": "ne8e-zyB79SR"
      },
      "source": [
        "Z_numerics"
      ],
      "execution_count": null,
      "outputs": []
    },
    {
      "cell_type": "markdown",
      "metadata": {
        "id": "kgJe2zAiG5GM"
      },
      "source": [
        "## K-MEANS "
      ]
    },
    {
      "cell_type": "code",
      "metadata": {
        "id": "yfDN0dDpHehg"
      },
      "source": [
        "from sklearn.metrics import silhouette_score\n",
        "n_clusters = [2,3,4,5,6,7,8,9,10] # number of clusters\n",
        "clusters_inertia = [] # inertia of clusters\n",
        "s_scores = [] # silhouette scores\n",
        "\n",
        "for n in n_clusters:\n",
        "    KM_est = KMeans(n_clusters=n, init='k-means++').fit(Z_numerics)\n",
        "    clusters_inertia.append(KM_est.inertia_)    # data for the elbow method\n",
        "    silhouette_avg = silhouette_score(Z_numerics, KM_est.labels_)\n",
        "    s_scores.append(silhouette_avg) # data for the silhouette score method"
      ],
      "execution_count": null,
      "outputs": []
    },
    {
      "cell_type": "code",
      "metadata": {
        "id": "WLqucrQ7CHuF"
      },
      "source": [
        "#Determine the optimal number of cluster \n",
        "# Elbow Method\n",
        "from sklearn.cluster import KMeans\n",
        "wcss = []\n",
        "for i in range(1,11):\n",
        "    kmeans = KMeans(n_clusters=i, init='k-means++', max_iter=300, n_init=10, random_state=0)\n",
        "    kmeans.fit(Z_numerics)\n",
        "    wcss.append(kmeans.inertia_)\n",
        "kl = KneeLocator(\n",
        "    range(1,11), wcss, curve=\"convex\", direction= \"decreasing\")\n",
        "kl.elbow \n",
        "    "
      ],
      "execution_count": null,
      "outputs": []
    },
    {
      "cell_type": "code",
      "metadata": {
        "id": "4i07Kmu3HMmo"
      },
      "source": [
        "fig, ax = plt.subplots(figsize=(12,5))\n",
        "ax = sns.lineplot(n_clusters, clusters_inertia, marker='o', ax=ax)\n",
        "ax.set_title(\"Elbow method\")\n",
        "ax.set_xlabel(\"number of clusters\")\n",
        "ax.set_ylabel(\"clusters inertia\")\n",
        "ax.axvline(5, ls=\"--\", c=\"red\")\n",
        "plt.grid()\n",
        "plt.show()"
      ],
      "execution_count": null,
      "outputs": []
    },
    {
      "cell_type": "markdown",
      "metadata": {
        "id": "BCCnnVJIIWrt"
      },
      "source": [
        "Let's see the silhouette score"
      ]
    },
    {
      "cell_type": "code",
      "metadata": {
        "id": "VX24On03IXdI"
      },
      "source": [
        "fig, ax = plt.subplots(figsize=(12,5))\n",
        "ax = sns.lineplot(n_clusters, s_scores, marker='o', ax=ax)\n",
        "ax.set_title(\"Silhouette score method\")\n",
        "ax.set_xlabel(\"number of clusters\")\n",
        "ax.set_ylabel(\"Silhouette score\")\n",
        "ax.axvline(5, ls=\"--\", c=\"red\")\n",
        "plt.grid()\n",
        "plt.show()"
      ],
      "execution_count": null,
      "outputs": []
    },
    {
      "cell_type": "code",
      "metadata": {
        "id": "oGFlwRGKGE3s"
      },
      "source": [
        "x = df_customer.iloc[:,[3,4]].values "
      ],
      "execution_count": null,
      "outputs": []
    },
    {
      "cell_type": "code",
      "metadata": {
        "id": "xdy6o5VqGIb3"
      },
      "source": [
        "# Silhouette score (study the separation distance between the resulting clusters) \n",
        "# how close each point in one cluster is to points in the neighboring clusters \n",
        "# thus provides a way to assess parameters like number of clusters visually\n",
        "import numpy as np\n",
        "\n",
        "for n_clusters in range(2,11):\n",
        "    # Create a subplot with 1 row and 2 columns\n",
        "    fig, (ax1, ax2) = plt.subplots(1, 2)\n",
        "    fig.set_size_inches(18, 7)\n",
        "\n",
        "    # The 1st subplot is the silhouette plot\n",
        "    # The silhouette coefficient can range from -1, 1 but in this example all\n",
        "    # lie within [-0.1, 1]\n",
        "    ax1.set_xlim([-0.1, 1])\n",
        "    # The (n_clusters+1)*10 is for inserting blank space between silhouette\n",
        "    # plots of individual clusters, to demarcate them clearly.\n",
        "    ax1.set_ylim([0, len(x) + (n_clusters + 1) * 10])\n",
        "\n",
        "    # Initialize the clusterer with n_clusters value and a random generator\n",
        "    # seed of 10 for reproducibility.\n",
        "    clusterer = KMeans(n_clusters=n_clusters, random_state=10)\n",
        "    cluster_labels = clusterer.fit_predict(x)\n",
        "\n",
        "    # The silhouette_score gives the average value for all the samples.\n",
        "    # This gives a perspective into the density and separation of the formed\n",
        "    # clusters\n",
        "    silhouette_avg = silhouette_score(x, cluster_labels)\n",
        "    print(\"For n_clusters =\", n_clusters,\n",
        "          \"The average silhouette_score is :\", silhouette_avg)\n",
        "\n",
        "    # Compute the silhouette scores for each sample\n",
        "    sample_silhouette_values = silhouette_samples(x, cluster_labels)\n",
        "\n",
        "    y_lower = 10\n",
        "    for i in range(n_clusters):\n",
        "        # Aggregate the silhouette scores for samples belonging to\n",
        "        # cluster i, and sort them\n",
        "        ith_cluster_silhouette_values = \\\n",
        "            sample_silhouette_values[cluster_labels == i]\n",
        "\n",
        "        ith_cluster_silhouette_values.sort()\n",
        "\n",
        "        size_cluster_i = ith_cluster_silhouette_values.shape[0]\n",
        "        y_upper = y_lower + size_cluster_i\n",
        "\n",
        "        color = cm.nipy_spectral(float(i) / n_clusters)\n",
        "        ax1.fill_betweenx(np.arange(y_lower, y_upper),\n",
        "                          0, ith_cluster_silhouette_values,\n",
        "                          facecolor=color, edgecolor=color, alpha=0.7)\n",
        "\n",
        "        # Label the silhouette plots with their cluster numbers at the middle\n",
        "        ax1.text(-0.05, y_lower + 0.5 * size_cluster_i, str(i))\n",
        "\n",
        "        # Compute the new y_lower for next plot\n",
        "        y_lower = y_upper + 10  # 10 for the 0 samples\n",
        "\n",
        "    ax1.set_title(\"The silhouette plot for the various clusters.\")\n",
        "    ax1.set_xlabel(\"The silhouette coefficient values\")\n",
        "    ax1.set_ylabel(\"Cluster label\")\n",
        "\n",
        "    # The vertical line for average silhouette score of all the values\n",
        "    ax1.axvline(x=silhouette_avg, color=\"red\", linestyle=\"--\")\n",
        "\n",
        "    ax1.set_yticks([])  # Clear the yaxis labels / ticks\n",
        "    ax1.set_xticks([-0.1, 0, 0.2, 0.4, 0.6, 0.8, 1])\n",
        "\n",
        "    # 2nd Plot showing the actual clusters formed\n",
        "    colors = cm.nipy_spectral(cluster_labels.astype(float) / n_clusters)\n",
        "    ax2.scatter(x[:, 0], x[:, 1], marker='.', s=30, lw=0, alpha=0.7,\n",
        "                c=colors, edgecolor='k')\n",
        "\n",
        "    # Labeling the clusters\n",
        "    centers = clusterer.cluster_centers_\n",
        "    # Draw white circles at cluster centers\n",
        "    ax2.scatter(centers[:, 0], centers[:, 1], marker='o',\n",
        "                c=\"white\", alpha=1, s=200, edgecolor='k')\n",
        "\n",
        "    for i, c in enumerate(centers):\n",
        "        ax2.scatter(c[0], c[1], marker='$%d$' % i, alpha=1,\n",
        "                    s=50, edgecolor='k')\n",
        "\n",
        "    ax2.set_title(\"The visualization of the clustered data.\")\n",
        "    ax2.set_xlabel(\"Feature space for the 1st feature\")\n",
        "    ax2.set_ylabel(\"Feature space for the 2nd feature\")\n",
        "\n",
        "    plt.suptitle((\"Silhouette analysis for KMeans clustering on sample data \"\n",
        "                  \"with n_clusters = %d\" % n_clusters),\n",
        "                 fontsize=14, fontweight='bold')\n",
        "\n",
        "plt.show()"
      ],
      "execution_count": null,
      "outputs": []
    },
    {
      "cell_type": "markdown",
      "metadata": {
        "id": "iUGkaMBbIhDo"
      },
      "source": [
        "Silhouette score method indicates the best options would be 5 clusters. "
      ]
    },
    {
      "cell_type": "code",
      "metadata": {
        "id": "uYqi6N9jESZ5"
      },
      "source": [
        "#selecting feature (use iloc iloc as integer index-based. So here, we have to specify rows and columns by their integer index.)\n",
        "# 2 Age, 3 column of income, 4 column of score \n",
        "Z_numerics = df_customer.iloc[:,[2,3,4]].values "
      ],
      "execution_count": null,
      "outputs": []
    },
    {
      "cell_type": "code",
      "metadata": {
        "id": "_4Bqrl8oEZfL"
      },
      "source": [
        "Z_numerics = df_customer[['age','income', 'score']] # subset with numerical only"
      ],
      "execution_count": null,
      "outputs": []
    },
    {
      "cell_type": "code",
      "metadata": {
        "id": "NNRsistlItwB"
      },
      "source": [
        "KM_clusters = KMeans(n_clusters=5, init='k-means++').fit(Z_numerics) # initialise and fit K-Means model\n",
        "\n",
        "KM_clustered = Z_numerics.copy()\n",
        "KM_clustered.loc[:,'Cluster'] = KM_clusters.labels_ # append labels to points"
      ],
      "execution_count": null,
      "outputs": []
    },
    {
      "cell_type": "code",
      "metadata": {
        "id": "gswRhH9YJwto"
      },
      "source": [
        "fig1, (axes) = plt.subplots(1,2,figsize=(12,5))\n",
        "\n",
        "\n",
        "scat_1 = sns.scatterplot('income', 'score', data=KM_clustered,\n",
        "                hue='Cluster', ax=axes[0], palette='Set1', legend='full')\n",
        "\n",
        "sns.scatterplot('age', 'score', data=KM_clustered,\n",
        "                hue='Cluster', palette='Set1', ax=axes[1], legend='full')\n",
        "\n",
        "axes[0].scatter(KM_clusters.cluster_centers_[:,1],KM_clusters.cluster_centers_[:,2], marker='s', s=40, c=\"blue\")\n",
        "axes[1].scatter(KM_clusters.cluster_centers_[:,0],KM_clusters.cluster_centers_[:,2], marker='s', s=40, c=\"blue\")\n",
        "plt.show()"
      ],
      "execution_count": null,
      "outputs": []
    },
    {
      "cell_type": "markdown",
      "metadata": {
        "id": "dyUDb1NaJ95r"
      },
      "source": [
        "K-Means algorithm generated the following 5 clusters:\n",
        "\n",
        "0 clients with **medium** annual income and **medium** spending score --- \n",
        "1 clients with **high** annual income and **low** spending score ---\n",
        "2 clients with **high** annual income and **high** spending score ---\n",
        "3 clients with **low** annual income and **high** spending score ---\n",
        "4 clients with **low** annual income and **low** spending score ---\n",
        "There are no distinct groups is terms of customers age."
      ]
    },
    {
      "cell_type": "code",
      "metadata": {
        "id": "zCMkIW3pKWdp"
      },
      "source": [
        "#Sizes of the clusters:\n",
        "KM_clust_sizes = KM_clustered.groupby('Cluster').size().to_frame()\n",
        "KM_clust_sizes.columns = [\"KM_size\"]\n",
        "KM_clust_sizes"
      ],
      "execution_count": null,
      "outputs": []
    },
    {
      "cell_type": "code",
      "metadata": {
        "id": "OTc0T-iLKs3Y"
      },
      "source": [
        "from mpl_toolkits.mplot3d import Axes3D\n",
        "\n",
        "fig = plt.figure(figsize=(7, 7))\n",
        "ax = Axes3D(fig, rect=[0, 0, .99, 1], elev=20, azim=210)\n",
        "ax.scatter(KM_clustered['age'],\n",
        "           KM_clustered['income'],\n",
        "           KM_clustered['score'],\n",
        "           c=KM_clustered['Cluster'],\n",
        "           s=35, edgecolor='k', cmap=plt.cm.Set1)\n",
        "\n",
        "ax.w_xaxis.set_ticklabels([])\n",
        "ax.w_yaxis.set_ticklabels([])\n",
        "ax.w_zaxis.set_ticklabels([])\n",
        "ax.set_xlabel('Age')\n",
        "ax.set_ylabel('Annual Income')\n",
        "ax.set_zlabel('Spending Score')\n",
        "ax.set_title('3D view of K-Means 5 clusters')\n",
        "ax.dist = 12\n",
        "\n",
        "plt.show()"
      ],
      "execution_count": null,
      "outputs": []
    },
    {
      "cell_type": "code",
      "metadata": {
        "id": "8XCAns1iK1mP"
      },
      "source": [
        "# Below a Plotly version:\n",
        "import plotly as py\n",
        "import plotly.graph_objs as go\n",
        "\n",
        "def tracer(db, n, name):\n",
        "    '''\n",
        "    This function returns trace object for Plotly\n",
        "    '''\n",
        "    return go.Scatter3d(\n",
        "        x = db[db['Cluster']==n]['age'],\n",
        "        y = db[db['Cluster']==n]['score'],\n",
        "        z = db[db['Cluster']==n]['income'],\n",
        "        mode = 'markers',\n",
        "        name = name,\n",
        "        marker = dict(\n",
        "            size = 5\n",
        "        )\n",
        "     )\n",
        "\n",
        "trace0 = tracer(KM_clustered, 0, 'Cluster 0')\n",
        "trace1 = tracer(KM_clustered, 1, 'Cluster 1')\n",
        "trace2 = tracer(KM_clustered, 2, 'Cluster 2')\n",
        "trace3 = tracer(KM_clustered, 3, 'Cluster 3')\n",
        "trace4 = tracer(KM_clustered, 4, 'Cluster 4')\n",
        "\n",
        "data = [trace0, trace1, trace2, trace3, trace4]\n",
        "\n",
        "layout = go.Layout(\n",
        "    title = 'Clusters by K-Means',\n",
        "    scene = dict(\n",
        "            xaxis = dict(title = 'Age'),\n",
        "            yaxis = dict(title = 'Spending Score'),\n",
        "            zaxis = dict(title = 'Annual Income')\n",
        "        )\n",
        ")\n",
        "\n",
        "fig = go.Figure(data=data, layout=layout)\n",
        "py.offline.iplot(fig)"
      ],
      "execution_count": null,
      "outputs": []
    },
    {
      "cell_type": "markdown",
      "metadata": {
        "id": "6-kT20DlLNY5"
      },
      "source": [
        "## DBSCAN "
      ]
    },
    {
      "cell_type": "code",
      "metadata": {
        "id": "cdP9HAHCLRm8"
      },
      "source": [
        "from sklearn.cluster import DBSCAN"
      ],
      "execution_count": null,
      "outputs": []
    },
    {
      "cell_type": "code",
      "metadata": {
        "id": "NI8jobocLVKc"
      },
      "source": [
        "#first create a matrix of investigated combinations.\n",
        "from itertools import product\n",
        "\n",
        "eps_values = np.arange(8,12.75,0.25) # eps values to be investigated\n",
        "min_samples = np.arange(3,10) # min_samples values to be investigated\n",
        "DBSCAN_params = list(product(eps_values, min_samples))"
      ],
      "execution_count": null,
      "outputs": []
    },
    {
      "cell_type": "code",
      "metadata": {
        "id": "3Y2r6UpULdHI"
      },
      "source": [
        "#Colecting number of generated clusters.\n",
        "no_of_clusters = []\n",
        "sil_score = []\n",
        "\n",
        "for p in DBSCAN_params:\n",
        "    DBS_clustering = DBSCAN(eps=p[0], min_samples=p[1]).fit(Z_numerics)\n",
        "    no_of_clusters.append(len(np.unique(DBS_clustering.labels_)))\n",
        "    sil_score.append(silhouette_score(Z_numerics, DBS_clustering.labels_))"
      ],
      "execution_count": null,
      "outputs": []
    },
    {
      "cell_type": "code",
      "metadata": {
        "id": "Ujolj_15Lh_r"
      },
      "source": [
        "#A heatplot to shows how many clusters were genreated by the algorithm for the respective parameters combinations.\n",
        "tmp = pd.DataFrame.from_records(DBSCAN_params, columns =['Eps', 'Min_samples'])   \n",
        "tmp['No_of_clusters'] = no_of_clusters\n",
        "\n",
        "pivot_1 = pd.pivot_table(tmp, values='No_of_clusters', index='Min_samples', columns='Eps')\n",
        "\n",
        "fig, ax = plt.subplots(figsize=(12,6))\n",
        "sns.heatmap(pivot_1, annot=True,annot_kws={\"size\": 16}, cmap=\"YlGnBu\", ax=ax)\n",
        "ax.set_title('Number of clusters')\n",
        "plt.show()"
      ],
      "execution_count": null,
      "outputs": []
    },
    {
      "cell_type": "markdown",
      "metadata": {
        "id": "2JevRw9ULwPt"
      },
      "source": [
        "the number of clusters vary from 17 to 4."
      ]
    },
    {
      "cell_type": "code",
      "metadata": {
        "id": "p-VaVffuLw7Y"
      },
      "source": [
        "tmp = pd.DataFrame.from_records(DBSCAN_params, columns =['Eps', 'Min_samples'])   \n",
        "tmp['Sil_score'] = sil_score\n",
        "\n",
        "pivot_1 = pd.pivot_table(tmp, values='Sil_score', index='Min_samples', columns='Eps')\n",
        "\n",
        "fig, ax = plt.subplots(figsize=(18,6))\n",
        "sns.heatmap(pivot_1, annot=True, annot_kws={\"size\": 10}, cmap=\"YlGnBu\", ax=ax)\n",
        "plt.show()"
      ],
      "execution_count": null,
      "outputs": []
    },
    {
      "cell_type": "markdown",
      "metadata": {
        "id": "oK5h1_YKL08t"
      },
      "source": [
        "Global maximum is 0.26 for eps=12.5 and min_samples=4."
      ]
    },
    {
      "cell_type": "code",
      "metadata": {
        "id": "UWVHs_U6L3uC"
      },
      "source": [
        "DBS_clustering = DBSCAN(eps=12.5, min_samples=4).fit(Z_numerics)\n",
        "\n",
        "DBSCAN_clustered = Z_numerics.copy()\n",
        "DBSCAN_clustered.loc[:,'Cluster'] = DBS_clustering.labels_ # append labels to points"
      ],
      "execution_count": null,
      "outputs": []
    },
    {
      "cell_type": "code",
      "metadata": {
        "id": "bjpvSe3kL_zD"
      },
      "source": [
        "DBSCAN_clust_sizes = DBSCAN_clustered.groupby('Cluster').size().to_frame()\n",
        "DBSCAN_clust_sizes.columns = [\"DBSCAN_size\"]\n",
        "DBSCAN_clust_sizes"
      ],
      "execution_count": null,
      "outputs": []
    },
    {
      "cell_type": "markdown",
      "metadata": {
        "id": "MGApZxn1MHdT"
      },
      "source": [
        "DBSCAN created 5 clusters plus outliers cluster (-1). Sizes of clusters 0-4 vary significantly - some have only 4 or 8 observations. There are 18 outliers."
      ]
    },
    {
      "cell_type": "code",
      "metadata": {
        "id": "bWceH0qqMO-E"
      },
      "source": [
        "outliers = DBSCAN_clustered[DBSCAN_clustered['Cluster']==-1]\n",
        "\n",
        "fig2, (axes) = plt.subplots(1,2,figsize=(12,5))\n",
        "\n",
        "\n",
        "sns.scatterplot('income', 'score',\n",
        "                data=DBSCAN_clustered[DBSCAN_clustered['Cluster']!=-1],\n",
        "                hue='Cluster', ax=axes[0], palette='Set1', legend='full', s=45)\n",
        "\n",
        "sns.scatterplot('age', 'score',\n",
        "                data=DBSCAN_clustered[DBSCAN_clustered['Cluster']!=-1],\n",
        "                hue='Cluster', palette='Set1', ax=axes[1], legend='full', s=45)\n",
        "\n",
        "axes[0].scatter(outliers['income'], outliers['score'], s=5, label='outliers', c=\"k\")\n",
        "axes[1].scatter(outliers['age'], outliers['score'], s=5, label='outliers', c=\"k\")\n",
        "axes[0].legend()\n",
        "axes[1].legend()\n",
        "plt.setp(axes[0].get_legend().get_texts(), fontsize='10')\n",
        "plt.setp(axes[1].get_legend().get_texts(), fontsize='10')\n",
        "\n",
        "plt.show()"
      ],
      "execution_count": null,
      "outputs": []
    },
    {
      "cell_type": "markdown",
      "metadata": {
        "id": "FxBD4XGWMauc"
      },
      "source": [
        "The graph above shows that there are some outliers - these points do not meet distance and minimum samples requirements to be recognised as a cluster."
      ]
    },
    {
      "cell_type": "markdown",
      "metadata": {
        "id": "h-QZWVNRMjXg"
      },
      "source": [
        "## COMPARISON \n"
      ]
    },
    {
      "cell_type": "code",
      "metadata": {
        "id": "lFEc0AjQMmQt"
      },
      "source": [
        "fig1.suptitle('K-Means', fontsize=16)\n",
        "fig1"
      ],
      "execution_count": null,
      "outputs": []
    },
    {
      "cell_type": "code",
      "metadata": {
        "id": "LSDnvN8rM7gH"
      },
      "source": [
        "fig2.suptitle('DBSCAN', fontsize=16)\n",
        "fig2"
      ],
      "execution_count": null,
      "outputs": []
    },
    {
      "cell_type": "code",
      "metadata": {
        "id": "rFSRYdzSLero"
      },
      "source": [
        "clusters = pd.concat([KM_clust_sizes, DBSCAN_clust_sizes],axis=1, sort=False)\n",
        "clusters"
      ],
      "execution_count": null,
      "outputs": []
    },
    {
      "cell_type": "markdown",
      "metadata": {
        "id": "GWJ7PqdR-Vax"
      },
      "source": [
        "***Data Standardization***"
      ]
    },
    {
      "cell_type": "code",
      "metadata": {
        "id": "DJLkVFMSP_lR"
      },
      "source": [
        "# Importing Standardscalar Module \n",
        "from sklearn.preprocessing import StandardScaler \n",
        "\n",
        "# Set Name for StandardScaler as scaler\n",
        "scaler = StandardScaler() \n",
        "\n",
        "# Select Data\n",
        "df_standardized = df_customer[['age',\t'income',\t'score']]\n",
        "\n",
        "# Fit Standardization\n",
        "column_names = df_standardized.columns.tolist()\n",
        "df_standardized[column_names] = scaler.fit_transform(df_standardized[column_names])\n",
        "df_standardized.sort_index(inplace=True)\n",
        "df_standardized"
      ],
      "execution_count": null,
      "outputs": []
    },
    {
      "cell_type": "markdown",
      "metadata": {
        "id": "y8Q-9mXirv6q"
      },
      "source": [
        "## Hierarchical Clustering (visualization)"
      ]
    },
    {
      "cell_type": "code",
      "metadata": {
        "id": "PCqeYbuNrpry"
      },
      "source": [
        "# Modeling and Visualizing Clusters by Dendogram\n",
        "import scipy.cluster.hierarchy as sch\n",
        "dend = sch.dendrogram(sch.linkage(df_standardized, method='ward'))\n",
        "plt.title('Dendrogram')\n",
        "plt.xlabel('annual income')\n",
        "plt.ylabel('spending score')\n",
        "plt.rcParams[\"figure.figsize\"] = [8,4]\n",
        "plt.show()"
      ],
      "execution_count": null,
      "outputs": []
    },
    {
      "cell_type": "markdown",
      "metadata": {
        "id": "ENthnfYlvL1T"
      },
      "source": [
        "## Partitional Clustering (Visualization)"
      ]
    },
    {
      "cell_type": "code",
      "metadata": {
        "id": "8_hYWg2JvJPA"
      },
      "source": [
        "fig1, (axes) = plt.subplots(1,2,figsize=(12,5))\n",
        "\n",
        "\n",
        "scat_1 = sns.scatterplot('income', 'score', data=KM_clustered,\n",
        "                hue='Cluster', ax=axes[0], palette='Set1', legend='full')\n",
        "\n",
        "sns.scatterplot('age', 'score', data=KM_clustered,\n",
        "                hue='Cluster', palette='Set1', ax=axes[1], legend='full')\n",
        "\n",
        "axes[0].scatter(KM_clusters.cluster_centers_[:,1],KM_clusters.cluster_centers_[:,2], marker='s', s=40, c=\"blue\")\n",
        "axes[1].scatter(KM_clusters.cluster_centers_[:,0],KM_clusters.cluster_centers_[:,2], marker='s', s=40, c=\"blue\")\n",
        "plt.show()"
      ],
      "execution_count": null,
      "outputs": []
    },
    {
      "cell_type": "markdown",
      "metadata": {
        "id": "1aHXW2g3vbo4"
      },
      "source": [
        "## Density based Clustering (Visualization) "
      ]
    },
    {
      "cell_type": "code",
      "metadata": {
        "id": "lOLbvqYQvaQ6"
      },
      "source": [
        "tmp = pd.DataFrame.from_records(DBSCAN_params, columns =['Eps', 'Min_samples'])   \n",
        "tmp['Sil_score'] = sil_score\n",
        "\n",
        "pivot_1 = pd.pivot_table(tmp, values='Sil_score', index='Min_samples', columns='Eps')\n",
        "\n",
        "fig, ax = plt.subplots(figsize=(18,6))\n",
        "sns.heatmap(pivot_1, annot=True, annot_kws={\"size\": 10}, cmap=\"YlGnBu\", ax=ax)\n",
        "plt.show()"
      ],
      "execution_count": null,
      "outputs": []
    }
  ]
}